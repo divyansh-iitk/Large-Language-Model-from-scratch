{
 "cells": [
  {
   "cell_type": "markdown",
   "id": "cb4e42dc",
   "metadata": {},
   "source": [
    "## Finetuning the GPT_MODEL for classification of messages as \"Spam\" and \"Not Spam\""
   ]
  },
  {
   "cell_type": "markdown",
   "id": "2485f378",
   "metadata": {},
   "source": [
    "### Downloading and unzipping the dataset"
   ]
  },
  {
   "cell_type": "code",
   "execution_count": 1,
   "id": "54cf7c7d",
   "metadata": {},
   "outputs": [
    {
     "name": "stdout",
     "output_type": "stream",
     "text": [
      "sms_spam_collection/SMSSpamCollection.tsv already exists. Skipping download and extraction\n"
     ]
    }
   ],
   "source": [
    "import urllib.request\n",
    "import zipfile\n",
    "import os\n",
    "from pathlib import Path\n",
    "\n",
    "url  = \"https://archive.ics.uci.edu/static/public/228/sms+spam+collection.zip\"\n",
    "zip_path = \"sms_spam_colectio.zip\"\n",
    "extracted_path = \"sms_spam_collection\"\n",
    "data_file_path = Path(extracted_path) / \"SMSSpamCollection.tsv\"\n",
    "\n",
    "def download_and_unzip_spam_data(\n",
    "    url, zip_path, extracted_path, data_file_path):\n",
    "    if data_file_path.exists():\n",
    "        print(f\"{data_file_path} already exists. Skipping download and extraction\")\n",
    "        return\n",
    "    with urllib.request.urlopen(url) as response:\n",
    "        with open(zip_path, \"wb\") as out_file:\n",
    "            out_file.write(response.read())\n",
    "    with zipfile.ZipFile(zip_path, \"r\") as zip_ref:\n",
    "        zip_ref.extractall(extracted_path)\n",
    "    original_file_path = Path(extracted_path) / \"SMSSpamCollection\"\n",
    "    os.rename(original_file_path, data_file_path)\n",
    "    print(f\"File Downloaded and saved as {data_file_path}\")\n",
    "download_and_unzip_spam_data(url, zip_path, extracted_path, data_file_path)\n"
   ]
  },
  {
   "cell_type": "code",
   "execution_count": 2,
   "id": "8ed834ec",
   "metadata": {},
   "outputs": [
    {
     "data": {
      "text/html": [
       "<div>\n",
       "<style scoped>\n",
       "    .dataframe tbody tr th:only-of-type {\n",
       "        vertical-align: middle;\n",
       "    }\n",
       "\n",
       "    .dataframe tbody tr th {\n",
       "        vertical-align: top;\n",
       "    }\n",
       "\n",
       "    .dataframe thead th {\n",
       "        text-align: right;\n",
       "    }\n",
       "</style>\n",
       "<table border=\"1\" class=\"dataframe\">\n",
       "  <thead>\n",
       "    <tr style=\"text-align: right;\">\n",
       "      <th></th>\n",
       "      <th>Label</th>\n",
       "      <th>Text</th>\n",
       "    </tr>\n",
       "  </thead>\n",
       "  <tbody>\n",
       "    <tr>\n",
       "      <th>0</th>\n",
       "      <td>ham</td>\n",
       "      <td>Go until jurong point, crazy.. Available only ...</td>\n",
       "    </tr>\n",
       "    <tr>\n",
       "      <th>1</th>\n",
       "      <td>ham</td>\n",
       "      <td>Ok lar... Joking wif u oni...</td>\n",
       "    </tr>\n",
       "    <tr>\n",
       "      <th>2</th>\n",
       "      <td>spam</td>\n",
       "      <td>Free entry in 2 a wkly comp to win FA Cup fina...</td>\n",
       "    </tr>\n",
       "    <tr>\n",
       "      <th>3</th>\n",
       "      <td>ham</td>\n",
       "      <td>U dun say so early hor... U c already then say...</td>\n",
       "    </tr>\n",
       "    <tr>\n",
       "      <th>4</th>\n",
       "      <td>ham</td>\n",
       "      <td>Nah I don't think he goes to usf, he lives aro...</td>\n",
       "    </tr>\n",
       "  </tbody>\n",
       "</table>\n",
       "</div>"
      ],
      "text/plain": [
       "  Label                                               Text\n",
       "0   ham  Go until jurong point, crazy.. Available only ...\n",
       "1   ham                      Ok lar... Joking wif u oni...\n",
       "2  spam  Free entry in 2 a wkly comp to win FA Cup fina...\n",
       "3   ham  U dun say so early hor... U c already then say...\n",
       "4   ham  Nah I don't think he goes to usf, he lives aro..."
      ]
     },
     "execution_count": 2,
     "metadata": {},
     "output_type": "execute_result"
    }
   ],
   "source": [
    "import pandas as pd\n",
    "df = pd.read_csv(data_file_path, sep=\"\\t\", header=None, names=[\"Label\", \"Text\"])\n",
    "df.head()"
   ]
  },
  {
   "cell_type": "code",
   "execution_count": 3,
   "id": "7725fb7b",
   "metadata": {},
   "outputs": [
    {
     "name": "stdout",
     "output_type": "stream",
     "text": [
      "Label\n",
      "ham     4825\n",
      "spam     747\n",
      "Name: count, dtype: int64\n"
     ]
    }
   ],
   "source": [
    "print(df[\"Label\"].value_counts())"
   ]
  },
  {
   "cell_type": "markdown",
   "id": "fde490ca",
   "metadata": {},
   "source": [
    "### Creating a balanced dataset of 747 examples of each class and mapping \"spam\" to 1 and \"ham\" to 0"
   ]
  },
  {
   "cell_type": "code",
   "execution_count": 4,
   "id": "013023a2",
   "metadata": {},
   "outputs": [
    {
     "name": "stdout",
     "output_type": "stream",
     "text": [
      "Label\n",
      "ham     747\n",
      "spam    747\n",
      "Name: count, dtype: int64\n"
     ]
    }
   ],
   "source": [
    "def create_balanced_dataset(df):\n",
    "    num_spam = df[df[\"Label\"]==\"spam\"].shape[0]\n",
    "    ham_subset = df[df[\"Label\"]==\"ham\"].sample(num_spam, random_state=123)\n",
    "    balanced_dataset = pd.concat([ham_subset, df[df[\"Label\"]==\"spam\"]])\n",
    "    return balanced_dataset\n",
    "balanced_df = create_balanced_dataset(df)\n",
    "print(balanced_df[\"Label\"].value_counts())"
   ]
  },
  {
   "cell_type": "code",
   "execution_count": 5,
   "id": "0b6afb84",
   "metadata": {},
   "outputs": [
    {
     "data": {
      "text/html": [
       "<div>\n",
       "<style scoped>\n",
       "    .dataframe tbody tr th:only-of-type {\n",
       "        vertical-align: middle;\n",
       "    }\n",
       "\n",
       "    .dataframe tbody tr th {\n",
       "        vertical-align: top;\n",
       "    }\n",
       "\n",
       "    .dataframe thead th {\n",
       "        text-align: right;\n",
       "    }\n",
       "</style>\n",
       "<table border=\"1\" class=\"dataframe\">\n",
       "  <thead>\n",
       "    <tr style=\"text-align: right;\">\n",
       "      <th></th>\n",
       "      <th>Label</th>\n",
       "      <th>Text</th>\n",
       "    </tr>\n",
       "  </thead>\n",
       "  <tbody>\n",
       "    <tr>\n",
       "      <th>4307</th>\n",
       "      <td>0</td>\n",
       "      <td>Awww dat is sweet! We can think of something t...</td>\n",
       "    </tr>\n",
       "    <tr>\n",
       "      <th>4138</th>\n",
       "      <td>0</td>\n",
       "      <td>Just got to  &amp;lt;#&amp;gt;</td>\n",
       "    </tr>\n",
       "    <tr>\n",
       "      <th>4831</th>\n",
       "      <td>0</td>\n",
       "      <td>The word \"Checkmate\" in chess comes from the P...</td>\n",
       "    </tr>\n",
       "    <tr>\n",
       "      <th>4461</th>\n",
       "      <td>0</td>\n",
       "      <td>This is wishing you a great day. Moji told me ...</td>\n",
       "    </tr>\n",
       "    <tr>\n",
       "      <th>5440</th>\n",
       "      <td>0</td>\n",
       "      <td>Thank you. do you generally date the brothas?</td>\n",
       "    </tr>\n",
       "  </tbody>\n",
       "</table>\n",
       "</div>"
      ],
      "text/plain": [
       "      Label                                               Text\n",
       "4307      0  Awww dat is sweet! We can think of something t...\n",
       "4138      0                             Just got to  &lt;#&gt;\n",
       "4831      0  The word \"Checkmate\" in chess comes from the P...\n",
       "4461      0  This is wishing you a great day. Moji told me ...\n",
       "5440      0      Thank you. do you generally date the brothas?"
      ]
     },
     "execution_count": 5,
     "metadata": {},
     "output_type": "execute_result"
    }
   ],
   "source": [
    "balanced_df[\"Label\"] = balanced_df[\"Label\"].map({\"ham\":0, \"spam\":1})\n",
    "balanced_df.head()"
   ]
  },
  {
   "cell_type": "markdown",
   "id": "20d048f4",
   "metadata": {},
   "source": [
    "### Splitting the balanced_df into training, validation and testing dataframes in the ration 7:1:2 respectively"
   ]
  },
  {
   "cell_type": "code",
   "execution_count": 6,
   "id": "437f5a85",
   "metadata": {},
   "outputs": [],
   "source": [
    "def random_split(df, train_frac, val_frac):\n",
    "    df = df.sample(frac=1, random_state=123).reset_index(drop=True)\n",
    "    train_end = int(train_frac*len(df))\n",
    "    val_end = int((train_frac+val_frac)*len(df))\n",
    "    \n",
    "    train_df = df[:train_end]\n",
    "    val_df = df[train_end:val_end]\n",
    "    test_df = df[val_end:]\n",
    "    \n",
    "    return train_df, val_df, test_df\n",
    "train_df, val_df, test_df = random_split(balanced_df, 0.7, 0.1)"
   ]
  },
  {
   "cell_type": "markdown",
   "id": "54a0c6c9",
   "metadata": {},
   "source": [
    "**Saving each dataframe as a CSV file**"
   ]
  },
  {
   "cell_type": "code",
   "execution_count": 7,
   "id": "95c256f6",
   "metadata": {},
   "outputs": [],
   "source": [
    "train_df.to_csv(\"train.csv\", index=False)\n",
    "val_df.to_csv(\"val.csv\", index=False)\n",
    "test_df.to_csv(\"test.csv\", index=False)"
   ]
  },
  {
   "cell_type": "markdown",
   "id": "03fd606a",
   "metadata": {},
   "source": [
    "### Creating custom dataset class"
   ]
  },
  {
   "cell_type": "code",
   "execution_count": 8,
   "id": "4265e690",
   "metadata": {},
   "outputs": [],
   "source": [
    "import torch\n",
    "from torch.utils.data import DataLoader, Dataset\n",
    "import tiktoken\n",
    "\n",
    "tokenizer = tiktoken.get_encoding(\"gpt2\")\n",
    "\n",
    "class SpamDataset(Dataset):\n",
    "    def __init__(self, csv_file, tokenizer, max_length=None,\n",
    "                 pad_token_id=50256):\n",
    "        self.data = pd.read_csv(csv_file)\n",
    "        self.encoded_texts = [\n",
    "            tokenizer.encode(text) for text in self.data[\"Text\"]]\n",
    "        if max_length is None:\n",
    "            self.max_length = self._longest_encoded_length()\n",
    "        else:\n",
    "            self.max_length = max_length\n",
    "            \n",
    "            self.encoded_texts = [text[:self.max_length] for text in self.encoded_texts]\n",
    "        \n",
    "        self.encoded_texts = [\n",
    "            encoded_text + [pad_token_id]*(self.max_length - len(encoded_text))\n",
    "            for encoded_text in self.encoded_texts\n",
    "        ]\n",
    "        \n",
    "    def __getitem__(self, idx):\n",
    "        encoded = self.encoded_texts[idx]\n",
    "        label = self.data.iloc[idx][\"Label\"]\n",
    "        encoded = torch.tensor(encoded, dtype=torch.long)\n",
    "        label = torch.tensor(label, dtype=torch.long)\n",
    "        return (encoded, label)\n",
    "    def __len__(self):\n",
    "        return len(self.data)\n",
    "    def _longest_encoded_length(self):\n",
    "        max_len = 0\n",
    "        for enc_text in self.encoded_texts:\n",
    "            if len(enc_text)>max_len: max_len = len(enc_text)\n",
    "        return max_len\n",
    "            \n",
    "        "
   ]
  },
  {
   "cell_type": "code",
   "execution_count": 9,
   "id": "1b933fd1",
   "metadata": {},
   "outputs": [],
   "source": [
    "\n",
    "train_dataset = SpamDataset(csv_file=\"train.csv\", tokenizer=tokenizer)\n",
    "val_dataset = SpamDataset(csv_file=\"val.csv\", tokenizer=tokenizer, max_length=train_dataset.max_length)\n",
    "test_dataset = SpamDataset(csv_file=\"test.csv\", tokenizer=tokenizer, max_length=train_dataset.max_length)"
   ]
  },
  {
   "cell_type": "markdown",
   "id": "8319eb5a",
   "metadata": {},
   "source": [
    "### Creating dataloaders"
   ]
  },
  {
   "cell_type": "code",
   "execution_count": 10,
   "id": "598ec823",
   "metadata": {},
   "outputs": [],
   "source": [
    "num_workers=0\n",
    "batch_size=8\n",
    "torch.manual_seed(123)\n",
    "\n",
    "train_loader = DataLoader(\n",
    "    dataset=train_dataset,\n",
    "    batch_size=batch_size,\n",
    "    shuffle=True,\n",
    "    num_workers=num_workers,\n",
    "    drop_last=True\n",
    ")\n",
    "val_loader = DataLoader(\n",
    "    dataset=val_dataset,\n",
    "    batch_size=batch_size,\n",
    "    num_workers=num_workers,\n",
    "    drop_last=False\n",
    ")\n",
    "test_loader = DataLoader(\n",
    "    dataset=test_dataset,\n",
    "    batch_size=batch_size,\n",
    "    num_workers=num_workers,\n",
    "    drop_last=False\n",
    ")"
   ]
  },
  {
   "cell_type": "markdown",
   "id": "c484863e",
   "metadata": {},
   "source": [
    "### Defining Model Configurations"
   ]
  },
  {
   "cell_type": "code",
   "execution_count": 11,
   "id": "da3fc968",
   "metadata": {},
   "outputs": [
    {
     "data": {
      "text/plain": [
       "{'vocab_size': 50257,\n",
       " 'context_length': 1024,\n",
       " 'drop_rate': 0.0,\n",
       " 'qkv_bias': True,\n",
       " 'emb_dim': 768,\n",
       " 'n_layers': 12,\n",
       " 'n_heads': 12}"
      ]
     },
     "execution_count": 11,
     "metadata": {},
     "output_type": "execute_result"
    }
   ],
   "source": [
    "CHOOSE_MODEL = \"gpt2-small (124M)\"\n",
    "BASE_CONFIG = {\n",
    "    \"vocab_size\":50257,\n",
    "    \"context_length\":1024,\n",
    "    \"drop_rate\":0.0,\n",
    "    \"qkv_bias\":True\n",
    "    }\n",
    "model_configs = {\n",
    "    'gpt2-small (124M)': {'emb_dim': 768, 'n_layers': 12, 'n_heads': 12},\n",
    "    'gpt2-medium (355M)': {'emb_dim': 1024, 'n_layers': 24, 'n_heads': 16},\n",
    "    'gpt2-large (774M)': {'emb_dim': 1280, 'n_layers': 36, 'n_heads': 20},\n",
    "    'gpt2-xl (1558M)': {'emb_dim': 1600, 'n_layers': 48, 'n_heads': 25}\n",
    "    }\n",
    "BASE_CONFIG.update(model_configs[CHOOSE_MODEL])\n",
    "BASE_CONFIG"
   ]
  },
  {
   "cell_type": "code",
   "execution_count": 12,
   "id": "8a7be359",
   "metadata": {},
   "outputs": [
    {
     "name": "stdout",
     "output_type": "stream",
     "text": [
      "File already exists and is up-to-date: gpt2/124M/checkpoint\n",
      "File already exists and is up-to-date: gpt2/124M/encoder.json\n",
      "File already exists and is up-to-date: gpt2/124M/hparams.json\n",
      "File already exists and is up-to-date: gpt2/124M/model.ckpt.data-00000-of-00001\n",
      "File already exists and is up-to-date: gpt2/124M/model.ckpt.index\n",
      "File already exists and is up-to-date: gpt2/124M/model.ckpt.meta\n",
      "File already exists and is up-to-date: gpt2/124M/vocab.bpe\n"
     ]
    }
   ],
   "source": [
    "from gpt_download import download_and_load_gpt2\n",
    "from base_model import load_params_into_gpt, GPTModel\n",
    "\n",
    "model_size = CHOOSE_MODEL.split(\" \")[-1].lstrip(\"(\").rstrip(\")\")\n",
    "\n",
    "settings, params = download_and_load_gpt2(\n",
    "    model_size=model_size, models_dir=\"gpt2\")\n",
    "\n",
    "model = GPTModel(BASE_CONFIG)\n",
    "\n",
    "load_params_into_gpt(model, params)\n",
    "\n",
    "model.eval();"
   ]
  },
  {
   "cell_type": "markdown",
   "id": "4bfa035d",
   "metadata": {},
   "source": [
    "### Testing if weights are loaded correctly in the model architecture by generating some text"
   ]
  },
  {
   "cell_type": "code",
   "execution_count": 13,
   "id": "1601d3e7",
   "metadata": {},
   "outputs": [
    {
     "name": "stdout",
     "output_type": "stream",
     "text": [
      "The age of the sun is approaching. We are in the midst of a time of great changes, and it is time to look at our surroundings to see how the sun may change our day, and to see how it may affect how we live. It is time to look into\n"
     ]
    }
   ],
   "source": [
    "from base_model import generate\n",
    "\n",
    "input_context = \"The age of the sun is\"\n",
    "\n",
    "generate(model=model, tokenizer=tokenizer,\n",
    "         input_context=input_context, max_new_tokens=50,\n",
    "         context_size=BASE_CONFIG[\"context_length\"],\n",
    "         temperature=1, top_k=7)"
   ]
  },
  {
   "cell_type": "markdown",
   "id": "869bca91",
   "metadata": {},
   "source": [
    "### Architecture of the model"
   ]
  },
  {
   "cell_type": "code",
   "execution_count": 14,
   "id": "3e426192",
   "metadata": {},
   "outputs": [
    {
     "name": "stdout",
     "output_type": "stream",
     "text": [
      "GPTModel(\n",
      "  (tok_emb): Embedding(50257, 768)\n",
      "  (pos_emb): Embedding(1024, 768)\n",
      "  (dropout): Dropout(p=0.0, inplace=False)\n",
      "  (transformer_layer): Sequential(\n",
      "    (0): Transformer(\n",
      "      (layer_norm1): layer_norm()\n",
      "      (Masked_multi_head_attn): MultiHeadAttention(\n",
      "        (Q_layer): Linear(in_features=768, out_features=768, bias=True)\n",
      "        (K_layer): Linear(in_features=768, out_features=768, bias=True)\n",
      "        (V_layer): Linear(in_features=768, out_features=768, bias=True)\n",
      "        (out_proj): Linear(in_features=768, out_features=768, bias=True)\n",
      "        (dropout): Dropout(p=0.0, inplace=False)\n",
      "      )\n",
      "      (dropout): Dropout(p=0.0, inplace=False)\n",
      "      (layer_norm2): layer_norm()\n",
      "      (ff): FeedForward(\n",
      "        (layers): Sequential(\n",
      "          (0): Linear(in_features=768, out_features=3072, bias=True)\n",
      "          (1): GELU()\n",
      "          (2): Linear(in_features=3072, out_features=768, bias=True)\n",
      "        )\n",
      "      )\n",
      "    )\n",
      "    (1): Transformer(\n",
      "      (layer_norm1): layer_norm()\n",
      "      (Masked_multi_head_attn): MultiHeadAttention(\n",
      "        (Q_layer): Linear(in_features=768, out_features=768, bias=True)\n",
      "        (K_layer): Linear(in_features=768, out_features=768, bias=True)\n",
      "        (V_layer): Linear(in_features=768, out_features=768, bias=True)\n",
      "        (out_proj): Linear(in_features=768, out_features=768, bias=True)\n",
      "        (dropout): Dropout(p=0.0, inplace=False)\n",
      "      )\n",
      "      (dropout): Dropout(p=0.0, inplace=False)\n",
      "      (layer_norm2): layer_norm()\n",
      "      (ff): FeedForward(\n",
      "        (layers): Sequential(\n",
      "          (0): Linear(in_features=768, out_features=3072, bias=True)\n",
      "          (1): GELU()\n",
      "          (2): Linear(in_features=3072, out_features=768, bias=True)\n",
      "        )\n",
      "      )\n",
      "    )\n",
      "    (2): Transformer(\n",
      "      (layer_norm1): layer_norm()\n",
      "      (Masked_multi_head_attn): MultiHeadAttention(\n",
      "        (Q_layer): Linear(in_features=768, out_features=768, bias=True)\n",
      "        (K_layer): Linear(in_features=768, out_features=768, bias=True)\n",
      "        (V_layer): Linear(in_features=768, out_features=768, bias=True)\n",
      "        (out_proj): Linear(in_features=768, out_features=768, bias=True)\n",
      "        (dropout): Dropout(p=0.0, inplace=False)\n",
      "      )\n",
      "      (dropout): Dropout(p=0.0, inplace=False)\n",
      "      (layer_norm2): layer_norm()\n",
      "      (ff): FeedForward(\n",
      "        (layers): Sequential(\n",
      "          (0): Linear(in_features=768, out_features=3072, bias=True)\n",
      "          (1): GELU()\n",
      "          (2): Linear(in_features=3072, out_features=768, bias=True)\n",
      "        )\n",
      "      )\n",
      "    )\n",
      "    (3): Transformer(\n",
      "      (layer_norm1): layer_norm()\n",
      "      (Masked_multi_head_attn): MultiHeadAttention(\n",
      "        (Q_layer): Linear(in_features=768, out_features=768, bias=True)\n",
      "        (K_layer): Linear(in_features=768, out_features=768, bias=True)\n",
      "        (V_layer): Linear(in_features=768, out_features=768, bias=True)\n",
      "        (out_proj): Linear(in_features=768, out_features=768, bias=True)\n",
      "        (dropout): Dropout(p=0.0, inplace=False)\n",
      "      )\n",
      "      (dropout): Dropout(p=0.0, inplace=False)\n",
      "      (layer_norm2): layer_norm()\n",
      "      (ff): FeedForward(\n",
      "        (layers): Sequential(\n",
      "          (0): Linear(in_features=768, out_features=3072, bias=True)\n",
      "          (1): GELU()\n",
      "          (2): Linear(in_features=3072, out_features=768, bias=True)\n",
      "        )\n",
      "      )\n",
      "    )\n",
      "    (4): Transformer(\n",
      "      (layer_norm1): layer_norm()\n",
      "      (Masked_multi_head_attn): MultiHeadAttention(\n",
      "        (Q_layer): Linear(in_features=768, out_features=768, bias=True)\n",
      "        (K_layer): Linear(in_features=768, out_features=768, bias=True)\n",
      "        (V_layer): Linear(in_features=768, out_features=768, bias=True)\n",
      "        (out_proj): Linear(in_features=768, out_features=768, bias=True)\n",
      "        (dropout): Dropout(p=0.0, inplace=False)\n",
      "      )\n",
      "      (dropout): Dropout(p=0.0, inplace=False)\n",
      "      (layer_norm2): layer_norm()\n",
      "      (ff): FeedForward(\n",
      "        (layers): Sequential(\n",
      "          (0): Linear(in_features=768, out_features=3072, bias=True)\n",
      "          (1): GELU()\n",
      "          (2): Linear(in_features=3072, out_features=768, bias=True)\n",
      "        )\n",
      "      )\n",
      "    )\n",
      "    (5): Transformer(\n",
      "      (layer_norm1): layer_norm()\n",
      "      (Masked_multi_head_attn): MultiHeadAttention(\n",
      "        (Q_layer): Linear(in_features=768, out_features=768, bias=True)\n",
      "        (K_layer): Linear(in_features=768, out_features=768, bias=True)\n",
      "        (V_layer): Linear(in_features=768, out_features=768, bias=True)\n",
      "        (out_proj): Linear(in_features=768, out_features=768, bias=True)\n",
      "        (dropout): Dropout(p=0.0, inplace=False)\n",
      "      )\n",
      "      (dropout): Dropout(p=0.0, inplace=False)\n",
      "      (layer_norm2): layer_norm()\n",
      "      (ff): FeedForward(\n",
      "        (layers): Sequential(\n",
      "          (0): Linear(in_features=768, out_features=3072, bias=True)\n",
      "          (1): GELU()\n",
      "          (2): Linear(in_features=3072, out_features=768, bias=True)\n",
      "        )\n",
      "      )\n",
      "    )\n",
      "    (6): Transformer(\n",
      "      (layer_norm1): layer_norm()\n",
      "      (Masked_multi_head_attn): MultiHeadAttention(\n",
      "        (Q_layer): Linear(in_features=768, out_features=768, bias=True)\n",
      "        (K_layer): Linear(in_features=768, out_features=768, bias=True)\n",
      "        (V_layer): Linear(in_features=768, out_features=768, bias=True)\n",
      "        (out_proj): Linear(in_features=768, out_features=768, bias=True)\n",
      "        (dropout): Dropout(p=0.0, inplace=False)\n",
      "      )\n",
      "      (dropout): Dropout(p=0.0, inplace=False)\n",
      "      (layer_norm2): layer_norm()\n",
      "      (ff): FeedForward(\n",
      "        (layers): Sequential(\n",
      "          (0): Linear(in_features=768, out_features=3072, bias=True)\n",
      "          (1): GELU()\n",
      "          (2): Linear(in_features=3072, out_features=768, bias=True)\n",
      "        )\n",
      "      )\n",
      "    )\n",
      "    (7): Transformer(\n",
      "      (layer_norm1): layer_norm()\n",
      "      (Masked_multi_head_attn): MultiHeadAttention(\n",
      "        (Q_layer): Linear(in_features=768, out_features=768, bias=True)\n",
      "        (K_layer): Linear(in_features=768, out_features=768, bias=True)\n",
      "        (V_layer): Linear(in_features=768, out_features=768, bias=True)\n",
      "        (out_proj): Linear(in_features=768, out_features=768, bias=True)\n",
      "        (dropout): Dropout(p=0.0, inplace=False)\n",
      "      )\n",
      "      (dropout): Dropout(p=0.0, inplace=False)\n",
      "      (layer_norm2): layer_norm()\n",
      "      (ff): FeedForward(\n",
      "        (layers): Sequential(\n",
      "          (0): Linear(in_features=768, out_features=3072, bias=True)\n",
      "          (1): GELU()\n",
      "          (2): Linear(in_features=3072, out_features=768, bias=True)\n",
      "        )\n",
      "      )\n",
      "    )\n",
      "    (8): Transformer(\n",
      "      (layer_norm1): layer_norm()\n",
      "      (Masked_multi_head_attn): MultiHeadAttention(\n",
      "        (Q_layer): Linear(in_features=768, out_features=768, bias=True)\n",
      "        (K_layer): Linear(in_features=768, out_features=768, bias=True)\n",
      "        (V_layer): Linear(in_features=768, out_features=768, bias=True)\n",
      "        (out_proj): Linear(in_features=768, out_features=768, bias=True)\n",
      "        (dropout): Dropout(p=0.0, inplace=False)\n",
      "      )\n",
      "      (dropout): Dropout(p=0.0, inplace=False)\n",
      "      (layer_norm2): layer_norm()\n",
      "      (ff): FeedForward(\n",
      "        (layers): Sequential(\n",
      "          (0): Linear(in_features=768, out_features=3072, bias=True)\n",
      "          (1): GELU()\n",
      "          (2): Linear(in_features=3072, out_features=768, bias=True)\n",
      "        )\n",
      "      )\n",
      "    )\n",
      "    (9): Transformer(\n",
      "      (layer_norm1): layer_norm()\n",
      "      (Masked_multi_head_attn): MultiHeadAttention(\n",
      "        (Q_layer): Linear(in_features=768, out_features=768, bias=True)\n",
      "        (K_layer): Linear(in_features=768, out_features=768, bias=True)\n",
      "        (V_layer): Linear(in_features=768, out_features=768, bias=True)\n",
      "        (out_proj): Linear(in_features=768, out_features=768, bias=True)\n",
      "        (dropout): Dropout(p=0.0, inplace=False)\n",
      "      )\n",
      "      (dropout): Dropout(p=0.0, inplace=False)\n",
      "      (layer_norm2): layer_norm()\n",
      "      (ff): FeedForward(\n",
      "        (layers): Sequential(\n",
      "          (0): Linear(in_features=768, out_features=3072, bias=True)\n",
      "          (1): GELU()\n",
      "          (2): Linear(in_features=3072, out_features=768, bias=True)\n",
      "        )\n",
      "      )\n",
      "    )\n",
      "    (10): Transformer(\n",
      "      (layer_norm1): layer_norm()\n",
      "      (Masked_multi_head_attn): MultiHeadAttention(\n",
      "        (Q_layer): Linear(in_features=768, out_features=768, bias=True)\n",
      "        (K_layer): Linear(in_features=768, out_features=768, bias=True)\n",
      "        (V_layer): Linear(in_features=768, out_features=768, bias=True)\n",
      "        (out_proj): Linear(in_features=768, out_features=768, bias=True)\n",
      "        (dropout): Dropout(p=0.0, inplace=False)\n",
      "      )\n",
      "      (dropout): Dropout(p=0.0, inplace=False)\n",
      "      (layer_norm2): layer_norm()\n",
      "      (ff): FeedForward(\n",
      "        (layers): Sequential(\n",
      "          (0): Linear(in_features=768, out_features=3072, bias=True)\n",
      "          (1): GELU()\n",
      "          (2): Linear(in_features=3072, out_features=768, bias=True)\n",
      "        )\n",
      "      )\n",
      "    )\n",
      "    (11): Transformer(\n",
      "      (layer_norm1): layer_norm()\n",
      "      (Masked_multi_head_attn): MultiHeadAttention(\n",
      "        (Q_layer): Linear(in_features=768, out_features=768, bias=True)\n",
      "        (K_layer): Linear(in_features=768, out_features=768, bias=True)\n",
      "        (V_layer): Linear(in_features=768, out_features=768, bias=True)\n",
      "        (out_proj): Linear(in_features=768, out_features=768, bias=True)\n",
      "        (dropout): Dropout(p=0.0, inplace=False)\n",
      "      )\n",
      "      (dropout): Dropout(p=0.0, inplace=False)\n",
      "      (layer_norm2): layer_norm()\n",
      "      (ff): FeedForward(\n",
      "        (layers): Sequential(\n",
      "          (0): Linear(in_features=768, out_features=3072, bias=True)\n",
      "          (1): GELU()\n",
      "          (2): Linear(in_features=3072, out_features=768, bias=True)\n",
      "        )\n",
      "      )\n",
      "    )\n",
      "  )\n",
      "  (final_norm_layer): layer_norm()\n",
      "  (linear_out_layer): Linear(in_features=768, out_features=50257, bias=False)\n",
      ")\n"
     ]
    }
   ],
   "source": [
    "print(model)"
   ]
  },
  {
   "cell_type": "markdown",
   "id": "0c7bf995",
   "metadata": {},
   "source": [
    "### Freezing all the parameters because only few layers will be fine tuned"
   ]
  },
  {
   "cell_type": "code",
   "execution_count": 15,
   "id": "4e8cb8cf",
   "metadata": {},
   "outputs": [],
   "source": [
    "for params in model.parameters():\n",
    "    params.requires_grad = False"
   ]
  },
  {
   "cell_type": "markdown",
   "id": "604ef815",
   "metadata": {},
   "source": [
    "### Replacing the last linear_out_layer with a Linear layer having out_features 2"
   ]
  },
  {
   "cell_type": "code",
   "execution_count": 16,
   "id": "f7030aaf",
   "metadata": {},
   "outputs": [],
   "source": [
    "import torch.nn as nn\n",
    "torch.manual_seed(353)\n",
    "\n",
    "num_classes = 2\n",
    "\n",
    "model.linear_out_layer = nn.Linear(in_features=BASE_CONFIG[\"emb_dim\"], out_features=num_classes)"
   ]
  },
  {
   "cell_type": "markdown",
   "id": "75585ffd",
   "metadata": {},
   "source": [
    "### Allowing the last transformer layer and final normalization layer to be trained for better accuracy"
   ]
  },
  {
   "cell_type": "code",
   "execution_count": 17,
   "id": "01b90c80",
   "metadata": {},
   "outputs": [],
   "source": [
    "for params in model.transformer_layer[-1].parameters():\n",
    "    params.requires_grad = True\n",
    "for params in model.final_norm_layer.parameters():\n",
    "    params.requires_grad = True"
   ]
  },
  {
   "cell_type": "markdown",
   "id": "88b6d424",
   "metadata": {},
   "source": [
    "### Function to calculate accuracy of a dataloader"
   ]
  },
  {
   "cell_type": "code",
   "execution_count": 18,
   "id": "a49e06b6",
   "metadata": {},
   "outputs": [],
   "source": [
    "def cal_accuracy_loader(data_loader, model, device, num_batches=None):\n",
    "    model.eval()\n",
    "    num_correct_pred, num_examples = 0, 0\n",
    "    if num_batches is None:\n",
    "        num_batches = len(data_loader)\n",
    "    else:\n",
    "        num_batches = min(len(data_loader), num_batches)\n",
    "    for i, (input_batch, target_batch) in enumerate(data_loader):\n",
    "        if i < num_batches:\n",
    "            input_batch = input_batch.to(device)\n",
    "            target_batch = target_batch.to(device)\n",
    "            \n",
    "            with torch.no_grad():\n",
    "                logits = model(input_batch)[:, -1, :]\n",
    "            predicted_labels = torch.argmax(logits, dim=-1)\n",
    "            num_examples += predicted_labels.shape[0]\n",
    "            num_correct_pred += (\n",
    "                (predicted_labels==target_batch).sum().item()\n",
    "            )\n",
    "        else:\n",
    "            break\n",
    "    return num_correct_pred/num_examples"
   ]
  },
  {
   "cell_type": "code",
   "execution_count": 19,
   "id": "429927f1",
   "metadata": {},
   "outputs": [
    {
     "name": "stdout",
     "output_type": "stream",
     "text": [
      "Train acc: 51.92%\n",
      "Validation acc: 63.33%\n",
      "Test acc: 52.17%\n"
     ]
    }
   ],
   "source": [
    "device = torch.device(\"cuda\" if torch.cuda.is_available() else \"cpu\")\n",
    "\n",
    "print(f\"Train acc: {cal_accuracy_loader(train_loader, model, device)*100:.2f}%\")\n",
    "print(f\"Validation acc: {cal_accuracy_loader(val_loader, model, device)*100:.2f}%\")\n",
    "print(f\"Test acc: {cal_accuracy_loader(test_loader, model, device)*100:.2f}%\")"
   ]
  },
  {
   "cell_type": "markdown",
   "id": "847a195e",
   "metadata": {},
   "source": [
    "### Loss function"
   ]
  },
  {
   "cell_type": "code",
   "execution_count": 20,
   "id": "db7fc418",
   "metadata": {},
   "outputs": [],
   "source": [
    "def calc_batch_lossFT(input_batch, target_batch, model, device):\n",
    "    input_batch = input_batch.to(device)\n",
    "    target_batch = target_batch.to(device)\n",
    "    logits = model(input_batch)[:, -1, :]\n",
    "    loss = nn.functional.cross_entropy(logits, target_batch)\n",
    "    return loss"
   ]
  },
  {
   "cell_type": "code",
   "execution_count": 21,
   "id": "e0ddaee5",
   "metadata": {},
   "outputs": [],
   "source": [
    "def calc_loader_lossFT(data_loader, model, device, num_batches=None):\n",
    "    total_loss = 0\n",
    "    if len(data_loader)==0:\n",
    "        return float(\"nan\")\n",
    "    elif num_batches is None:\n",
    "        num_batches = len(data_loader)\n",
    "    else:\n",
    "        num_batches = min(num_batches, len(data_loader))\n",
    "    for i , (input_batch, target_batch) in enumerate(data_loader):\n",
    "        if i < num_batches:\n",
    "            loss = calc_batch_lossFT(input_batch, target_batch, model, device)\n",
    "            total_loss += loss.item()\n",
    "        else:\n",
    "            break\n",
    "    return total_loss/num_batches"
   ]
  },
  {
   "cell_type": "code",
   "execution_count": 22,
   "id": "784fdf3a",
   "metadata": {},
   "outputs": [
    {
     "name": "stdout",
     "output_type": "stream",
     "text": [
      "Training loss: 0.693\n",
      "Validation loss: 0.687\n",
      "Test loss: 0.693\n"
     ]
    }
   ],
   "source": [
    "print(f\"Training loss: {calc_loader_lossFT(train_loader, model, device):.3f}\")\n",
    "print(f\"Validation loss: {calc_loader_lossFT(val_loader, model, device):.3f}\")\n",
    "print(f\"Test loss: {calc_loader_lossFT(test_loader, model, device):.3f}\")"
   ]
  },
  {
   "cell_type": "markdown",
   "id": "03e94216",
   "metadata": {},
   "source": [
    "### Evaluation function"
   ]
  },
  {
   "cell_type": "code",
   "execution_count": 23,
   "id": "9852c33a",
   "metadata": {},
   "outputs": [],
   "source": [
    "def evaluate_modelFT(train_loader, val_loader, model, device, eval_iter):\n",
    "    model.eval()\n",
    "    with torch.no_grad():\n",
    "        train_loss = calc_loader_lossFT(train_loader, model, device, num_batches=eval_iter)\n",
    "        val_loss = calc_loader_lossFT(val_loader, model, device, num_batches=eval_iter)\n",
    "    model.train()\n",
    "    return train_loss, val_loss"
   ]
  },
  {
   "cell_type": "markdown",
   "id": "ae86e15c",
   "metadata": {},
   "source": [
    "### Training function"
   ]
  },
  {
   "cell_type": "code",
   "execution_count": 24,
   "id": "4e395820",
   "metadata": {},
   "outputs": [],
   "source": [
    "def train_func(\n",
    "    model, train_loader, val_loader,\n",
    "    num_epochs, optimizer, device, eval_freq, eval_iter):\n",
    "    train_losses, val_losses, train_accs, val_accs = [], [], [], []\n",
    "    examples_seen, global_step = 0, -1\n",
    "    \n",
    "    for epoch in range(num_epochs):\n",
    "        model.train()\n",
    "        for input_batch, target_batch in train_loader:\n",
    "            optimizer.zero_grad()\n",
    "            loss = calc_batch_lossFT(input_batch, target_batch, model, device)\n",
    "            loss.backward()\n",
    "            optimizer.step()\n",
    "            examples_seen += input_batch.shape[0]\n",
    "            global_step += 1\n",
    "            if global_step%eval_freq==0:\n",
    "                train_loss, val_loss = evaluate_modelFT(train_loader, val_loader, model, device, eval_iter)\n",
    "                train_losses.append(train_loss)\n",
    "                val_losses.append(val_loss)\n",
    "                print(f\"Ep {epoch+1} (Step {global_step:06d}): \"\n",
    "                    f\"Training loss: {train_loss:.3f}, \"\n",
    "                    f\"Val loss : {val_loss:.3f}\")\n",
    "        train_acc = cal_accuracy_loader(\n",
    "            train_loader, model, device, num_batches=eval_iter)\n",
    "        val_acc = cal_accuracy_loader(\n",
    "            val_loader, model, device, num_batches=eval_iter)\n",
    "        print(f\"Training accuracy: {train_acc*100:.3f}% | \", end=\"\")\n",
    "        print(f\"Validation accuracy: {val_acc*100:.3f}%\")\n",
    "        train_accs.append(train_acc)\n",
    "        val_accs.append(val_acc)\n",
    "    return train_losses, val_losses, train_accs, val_accs, examples_seen"
   ]
  },
  {
   "cell_type": "code",
   "execution_count": 25,
   "id": "20991409",
   "metadata": {},
   "outputs": [
    {
     "name": "stdout",
     "output_type": "stream",
     "text": [
      "Ep 1 (Step 000000): Training loss: 0.705, Val loss : 0.696\n",
      "Ep 1 (Step 000050): Training loss: 0.619, Val loss : 0.632\n",
      "Ep 1 (Step 000100): Training loss: 0.412, Val loss : 0.489\n",
      "Training accuracy: 85.000% | Validation accuracy: 95.000%\n",
      "Ep 2 (Step 000150): Training loss: 0.454, Val loss : 0.277\n",
      "Ep 2 (Step 000200): Training loss: 0.070, Val loss : 0.055\n",
      "Ep 2 (Step 000250): Training loss: 0.034, Val loss : 0.127\n",
      "Training accuracy: 92.500% | Validation accuracy: 97.500%\n",
      "Ep 3 (Step 000300): Training loss: 0.122, Val loss : 0.140\n",
      "Ep 3 (Step 000350): Training loss: 0.047, Val loss : 0.029\n",
      "Training accuracy: 97.500% | Validation accuracy: 97.500%\n",
      "Ep 4 (Step 000400): Training loss: 0.009, Val loss : 0.029\n",
      "Ep 4 (Step 000450): Training loss: 0.073, Val loss : 0.053\n",
      "Ep 4 (Step 000500): Training loss: 0.136, Val loss : 0.025\n",
      "Training accuracy: 97.500% | Validation accuracy: 97.500%\n",
      "Ep 5 (Step 000550): Training loss: 0.181, Val loss : 0.017\n",
      "Ep 5 (Step 000600): Training loss: 0.045, Val loss : 0.030\n",
      "Training accuracy: 100.000% | Validation accuracy: 100.000%\n",
      "Training completed in 9.53 minutes.\n"
     ]
    }
   ],
   "source": [
    "import time\n",
    "\n",
    "start_time = time.time()\n",
    "torch.manual_seed(123)\n",
    "optimizer = torch.optim.AdamW(model.parameters(), lr=5e-5, weight_decay=0.1)\n",
    "num_epochs = 5\n",
    "\n",
    "train_lossesFT, val_lossesFT, train_accsFT, val_accsFT, examples_seen = train_func(\n",
    "    model, train_loader, val_loader,\n",
    "    num_epochs, optimizer, device, eval_freq=50, eval_iter=5)\n",
    "\n",
    "end_time = time.time()\n",
    "execution_time_minutes = (end_time - start_time)/60\n",
    "print(f\"Training completed in {execution_time_minutes:.2f} minutes.\")"
   ]
  },
  {
   "cell_type": "markdown",
   "id": "fe953f0b",
   "metadata": {},
   "source": [
    "### Plotting losses and accuracies"
   ]
  },
  {
   "cell_type": "code",
   "execution_count": 26,
   "id": "ee27d073",
   "metadata": {},
   "outputs": [
    {
     "data": {
      "image/png": "[encoded data removed]",
      "text/plain": [
       "<Figure size 500x300 with 2 Axes>"
      ]
     },
     "metadata": {},
     "output_type": "display_data"
    }
   ],
   "source": [
    "import matplotlib.pyplot as plt\n",
    "\n",
    "def plot_values(\n",
    "    epochs_seen, examples_seen, train_values, val_values,\n",
    "    label=\"loss\"):\n",
    "    fig, ax1 = plt.subplots(figsize=(5, 3))\n",
    "\n",
    "    ax1.plot(epochs_seen, train_values, label=f\"Training {label}\")\n",
    "    ax1.plot(\n",
    "        epochs_seen, val_values, linestyle=\"-.\",\n",
    "        label=f\"Validation {label}\"\n",
    "    )\n",
    "    ax1.set_xlabel(\"Epochs\")\n",
    "    ax1.set_ylabel(label.capitalize())\n",
    "    ax1.legend()\n",
    "\n",
    "    ax2 = ax1.twiny()\n",
    "    ax2.plot(examples_seen, train_values, alpha=0)\n",
    "    ax2.set_xlabel(\"Examples seen\")\n",
    "\n",
    "    fig.tight_layout()\n",
    "    plt.savefig(f\"{label}-plot.pdf\")\n",
    "    plt.show()\n",
    "\n",
    "epochs_tensor = torch.linspace(0, num_epochs, len(train_lossesFT))\n",
    "examples_seen_tensor = torch.linspace(0, examples_seen, len(train_lossesFT))\n",
    "\n",
    "plot_values(epochs_tensor, examples_seen_tensor, train_lossesFT, val_lossesFT)"
   ]
  },
  {
   "cell_type": "code",
   "execution_count": 27,
   "id": "7fb4316b",
   "metadata": {},
   "outputs": [
    {
     "data": {
      "image/png": "[encoded data removed]",
      "text/plain": [
       "<Figure size 500x300 with 2 Axes>"
      ]
     },
     "metadata": {},
     "output_type": "display_data"
    }
   ],
   "source": [
    "epochs_tensor = torch.linspace(0, num_epochs, len(train_accsFT))\n",
    "examples_seen_tensor = torch.linspace(0, examples_seen, len(train_accsFT))\n",
    "\n",
    "plot_values(epochs_tensor, examples_seen_tensor, train_accsFT, val_accsFT, label=\"accuracy\")"
   ]
  },
  {
   "cell_type": "markdown",
   "id": "3b7c1c87",
   "metadata": {},
   "source": [
    "### Calculating accuracies on datasets"
   ]
  },
  {
   "cell_type": "code",
   "execution_count": 28,
   "id": "a317f07f",
   "metadata": {},
   "outputs": [
    {
     "name": "stdout",
     "output_type": "stream",
     "text": [
      "Training accuracy: 97.98%\n",
      "Validation accuracy: 97.33%\n",
      "Test accuracy: 96.66%\n"
     ]
    }
   ],
   "source": [
    "train_acc = cal_accuracy_loader(train_loader, model, device)\n",
    "val_acc = cal_accuracy_loader(val_loader, model, device)\n",
    "test_acc = cal_accuracy_loader(test_loader, model, device)\n",
    "print(f\"Training accuracy: {train_acc*100:.2f}%\")\n",
    "print(f\"Validation accuracy: {val_acc*100:.2f}%\")\n",
    "print(f\"Test accuracy: {test_acc*100:.2f}%\")"
   ]
  },
  {
   "cell_type": "markdown",
   "id": "788d068d",
   "metadata": {},
   "source": [
    "### Testing out fine-tuned model on unseen data"
   ]
  },
  {
   "cell_type": "code",
   "execution_count": 29,
   "id": "e3ea06de",
   "metadata": {},
   "outputs": [],
   "source": [
    "def classify_email(\n",
    "    text, model, tokenizer, max_length=None, pad_token_id=50256):\n",
    "    model.eval()\n",
    "    input_ids = tokenizer.encode(text)\n",
    "    supported_context_length = model.pos_emb.weight.shape[1]\n",
    "    input_ids = input_ids[:min(max_length, supported_context_length)]\n",
    "    input_ids = input_ids + [pad_token_id]*(max_length - len(input_ids))\n",
    "    input_tensor = torch.tensor(input_ids, device=device).unsqueeze(0)\n",
    "    \n",
    "    with torch.no_grad():\n",
    "        logits = model(input_tensor)[:, -1, :]\n",
    "    predicted_lebel = torch.argmax(logits, dim=-1).item()\n",
    "    return \"Not Spam\" if predicted_lebel==0 else \"Spam\""
   ]
  },
  {
   "cell_type": "code",
   "execution_count": 30,
   "id": "6a099fcf",
   "metadata": {},
   "outputs": [
    {
     "name": "stdout",
     "output_type": "stream",
     "text": [
      "Text1 is Spam\n",
      "Text2 is Not Spam\n"
     ]
    }
   ],
   "source": [
    "Text1 = \"Congratulations! You’ve won a $500 gift card. Click here to claim your prize now!\"\n",
    "Text2 = \"Hey, are we still meeting at the library at 5 pm today?\"\n",
    "\n",
    "label1 = classify_email(Text1, model, tokenizer, train_dataset.max_length)\n",
    "label2 = classify_email(Text2, model, tokenizer, train_dataset.max_length)\n",
    "\n",
    "print(f\"Text1 is {label1}\\n\"\n",
    "      f\"Text2 is {label2}\")"
   ]
  },
  {
   "cell_type": "markdown",
   "id": "aa1b2ab6",
   "metadata": {},
   "source": [
    "### Saving the model"
   ]
  },
  {
   "cell_type": "code",
   "execution_count": 31,
   "id": "bcf31601",
   "metadata": {},
   "outputs": [],
   "source": [
    "torch.save(model.state_dict(), \"review_classifier.pth\")"
   ]
  }
 ],
 "metadata": {
  "kernelspec": {
   "display_name": "Python (llmFS)",
   "language": "python",
   "name": "llmfsenv"
  },
  "language_info": {
   "codemirror_mode": {
    "name": "ipython",
    "version": 3
   },
   "file_extension": ".py",
   "mimetype": "text/x-python",
   "name": "python",
   "nbconvert_exporter": "python",
   "pygments_lexer": "ipython3",
   "version": "3.12.1"
  }
 },
 "nbformat": 4,
 "nbformat_minor": 5
}
