{
 "cells": [
  {
   "cell_type": "markdown",
   "id": "7b1950ae",
   "metadata": {},
   "source": [
    "# Creating datasets and dataloaders"
   ]
  },
  {
   "cell_type": "code",
   "execution_count": 1,
   "id": "47e85316",
   "metadata": {},
   "outputs": [],
   "source": [
    "import torch\n",
    "from torch.utils.data import DataLoader, Dataset"
   ]
  },
  {
   "cell_type": "code",
   "execution_count": 2,
   "id": "d1bd5679",
   "metadata": {},
   "outputs": [],
   "source": [
    "class GPTdatasetV1(Dataset):\n",
    "    def __init__(self, txt, tokenizer, max_length, stride):\n",
    "        self.input_ids = []\n",
    "        self.target_ids = []\n",
    "        \n",
    "        tokenIDs = tokenizer.encode(txt)\n",
    "        \n",
    "        for i in range(0, len(tokenIDs) - max_length, stride):\n",
    "            self.input_ids.append(torch.tensor(tokenIDs[i:i+max_length]))\n",
    "            self.target_ids.append(torch.tensor(tokenIDs[i+1:i+max_length+1]))\n",
    "            \n",
    "    def __len__(self):\n",
    "        return(len(self.input_ids))\n",
    "    \n",
    "    def __getitem__(self, index):\n",
    "        input = self.input_ids[index]\n",
    "        label = self.target_ids[index]\n",
    "        return input, label"
   ]
  },
  {
   "cell_type": "code",
   "execution_count": 3,
   "id": "790f9924",
   "metadata": {},
   "outputs": [],
   "source": [
    "def creat_dataloader_V1(txt, tokenizer, batch_size, max_length=256, stride=128,\n",
    "                        shuffle=True, drop_last=True, num_workers=0):\n",
    "    dataset = GPTdatasetV1(txt, tokenizer, max_length, stride)\n",
    "    dataloader = DataLoader(dataset, batch_size=batch_size, shuffle=shuffle,\n",
    "                            drop_last=drop_last, num_workers=num_workers)\n",
    "    return dataloader"
   ]
  },
  {
   "cell_type": "markdown",
   "id": "cd770bbb",
   "metadata": {},
   "source": [
    "# Multi-Head Attention mechanism"
   ]
  },
  {
   "cell_type": "code",
   "execution_count": 4,
   "id": "cce8cbe3",
   "metadata": {},
   "outputs": [],
   "source": [
    "import torch.nn as nn"
   ]
  },
  {
   "cell_type": "code",
   "execution_count": 5,
   "id": "c4016579",
   "metadata": {},
   "outputs": [],
   "source": [
    "class MultiHeadAttention(nn.Module):\n",
    "    def __init__(self, d_in, d_out, context_size, dropout, num_heads, qkv_bias=False):\n",
    "        super().__init__()\n",
    "        assert(d_out%num_heads==0), \"d_out must be a multiple of num_heads\"\n",
    "        self.head_dim = d_out//num_heads\n",
    "        self.num_heads = num_heads\n",
    "        self.d_out = d_out\n",
    "        self.Q_layer = nn.Linear(d_in, d_out, bias=qkv_bias)\n",
    "        self.K_layer = nn.Linear(d_in, d_out, bias=qkv_bias)\n",
    "        self.V_layer = nn.Linear(d_in, d_out, bias=qkv_bias)\n",
    "        self.out_proj = nn.Linear(d_out, d_out)\n",
    "        self.dropout = nn.Dropout(dropout)\n",
    "        self.register_buffer('mask', torch.triu(torch.ones(context_size, context_size), diagonal=1))\n",
    "    \n",
    "    def forward(self, x):\n",
    "        b, num_tokens, d_in = x.shape\n",
    "        Q = self.Q_layer(x)\n",
    "        K = self.K_layer(x)\n",
    "        V = self.V_layer(x)\n",
    "\n",
    "        Q = Q.view(b, num_tokens, self.num_heads, self.head_dim)\n",
    "        K = K.view(b, num_tokens, self.num_heads, self.head_dim)\n",
    "        V = V.view(b, num_tokens, self.num_heads, self.head_dim)\n",
    "        \n",
    "        Q.transpose_(1, 2)\n",
    "        K.transpose_(1, 2)\n",
    "        V.transpose_(1, 2)\n",
    "        \n",
    "        attention_scores = Q@K.transpose(-1, -2)\n",
    "        \n",
    "        mask_bool = self.mask.bool()[:num_tokens, :num_tokens]\n",
    "        \n",
    "        attention_scores.masked_fill_(mask_bool, -torch.inf)\n",
    "        \n",
    "        attention_weights = torch.softmax(attention_scores/self.head_dim**0.5, dim=-1)\n",
    "        attention_weights = self.dropout(attention_weights)\n",
    "\n",
    "        context_vec = (attention_weights@V).transpose(1, 2)\n",
    "        context_vec = context_vec.contiguous().view(b, num_tokens, self.d_out)\n",
    "        \n",
    "        context_vec = self.out_proj(context_vec)\n",
    "        \n",
    "        return context_vec\n",
    "        "
   ]
  },
  {
   "cell_type": "markdown",
   "id": "fc82a971",
   "metadata": {},
   "source": [
    "# GPT architecture"
   ]
  },
  {
   "cell_type": "markdown",
   "id": "6e985c84",
   "metadata": {},
   "source": [
    "**Configuration for the model**"
   ]
  },
  {
   "cell_type": "code",
   "execution_count": 6,
   "id": "805d97a4",
   "metadata": {},
   "outputs": [],
   "source": [
    "GPT_CONFIG_124M = {\n",
    "    \"vocab_size\" : 50257,\n",
    "    \"context_length\" : 1024,\n",
    "    \"emb_dim\" : 768,\n",
    "    \"n_heads\" : 12,\n",
    "    \"n_layers\" : 12,\n",
    "    \"drop_rate\" : 0.1,\n",
    "    \"qkv_bias\" : False\n",
    "}"
   ]
  },
  {
   "cell_type": "markdown",
   "id": "66094548",
   "metadata": {},
   "source": [
    "**Layer Normalization Class**"
   ]
  },
  {
   "cell_type": "code",
   "execution_count": 7,
   "id": "dbe8749d",
   "metadata": {},
   "outputs": [],
   "source": [
    "class layer_norm(nn.Module):\n",
    "    def __init__(self, emb_dim):\n",
    "        super().__init__()\n",
    "        self.eps = 1e-5\n",
    "        self.scale = nn.Parameter(torch.ones(emb_dim))\n",
    "        self.shift = nn.Parameter(torch.zeros(emb_dim))\n",
    "    \n",
    "    def forward(self, x):\n",
    "        mean = x.mean(dim=-1, keepdim=True)\n",
    "        var = x.var(dim=-1, keepdim=True)\n",
    "        norm_out = (x - mean)/(torch.sqrt(var) + self.eps)\n",
    "        return self.scale*norm_out + self.shift"
   ]
  },
  {
   "cell_type": "markdown",
   "id": "e9b34389",
   "metadata": {},
   "source": [
    "**GELU activation class**"
   ]
  },
  {
   "cell_type": "code",
   "execution_count": 8,
   "id": "f17c12fb",
   "metadata": {},
   "outputs": [],
   "source": [
    "class GELU(nn.Module):\n",
    "    def __init__(self):\n",
    "        super().__init__()\n",
    "    \n",
    "    def forward(self, x):\n",
    "        out = 0.5*x*(1 + torch.tanh(torch.sqrt(torch.tensor(2/torch.pi))*(x + 0.044715*x**3)))\n",
    "        return out"
   ]
  },
  {
   "cell_type": "markdown",
   "id": "216550e9",
   "metadata": {},
   "source": [
    "**Feed-Forward class**"
   ]
  },
  {
   "cell_type": "code",
   "execution_count": 9,
   "id": "13d5128e",
   "metadata": {},
   "outputs": [],
   "source": [
    "class FeedForward(nn.Module):\n",
    "    def __init__(self, cfg):\n",
    "        super().__init__()\n",
    "        self.layers = nn.Sequential(\n",
    "            nn.Linear(cfg[\"emb_dim\"], 4*cfg[\"emb_dim\"]),\n",
    "            GELU(),\n",
    "            nn.Linear(4*cfg[\"emb_dim\"], cfg[\"emb_dim\"])\n",
    "            )\n",
    "    def forward(self, x):\n",
    "        return self.layers(x)"
   ]
  },
  {
   "cell_type": "markdown",
   "id": "3865d314",
   "metadata": {},
   "source": [
    "**Transformer block**"
   ]
  },
  {
   "cell_type": "code",
   "execution_count": 10,
   "id": "f634f94c",
   "metadata": {},
   "outputs": [],
   "source": [
    "class Transformer(nn.Module):\n",
    "    def __init__(self, cfg):\n",
    "        super().__init__()\n",
    "        self.layer_norm1 = layer_norm(cfg['emb_dim'])\n",
    "        self.Masked_multi_head_attn = MultiHeadAttention(\n",
    "            cfg['emb_dim'], cfg['emb_dim'],\n",
    "            cfg['context_length'], cfg['drop_rate'], cfg['n_heads'], cfg['qkv_bias'])\n",
    "        self.dropout = nn.Dropout(cfg['drop_rate'])\n",
    "        self.layer_norm2 = layer_norm(cfg['emb_dim'])\n",
    "        self.ff = FeedForward(cfg)\n",
    "           \n",
    "    def forward(self, x):\n",
    "        \n",
    "        shortcut = x\n",
    "        \n",
    "        x = self.layer_norm1(x)\n",
    "        x = self.Masked_multi_head_attn(x)\n",
    "        x = self.dropout(x) + shortcut\n",
    "        \n",
    "        shortcut = x\n",
    "        \n",
    "        x = self.layer_norm2(x)\n",
    "        x = self.ff(x)\n",
    "        x = self.dropout(x) + shortcut\n",
    "        \n",
    "        return x\n",
    "         \n",
    "        "
   ]
  },
  {
   "cell_type": "markdown",
   "id": "165d49bd",
   "metadata": {},
   "source": [
    "**Model**"
   ]
  },
  {
   "cell_type": "code",
   "execution_count": 11,
   "id": "20623c09",
   "metadata": {},
   "outputs": [],
   "source": [
    "class GPTModel(nn.Module):\n",
    "    def __init__(self, cfg):\n",
    "        super().__init__()\n",
    "        self.tok_emb = nn.Embedding(cfg['vocab_size'], cfg['emb_dim'])\n",
    "        self.pos_emb = nn.Embedding(cfg['context_length'], cfg['emb_dim'])\n",
    "        self.dropout = nn.Dropout(cfg['drop_rate'])\n",
    "        self.transformer_layer = nn.Sequential(*[Transformer(cfg) for _ in range(cfg['n_layers'])])\n",
    "        self.final_norm_layer = layer_norm(cfg['emb_dim'])\n",
    "        self.linear_out_layer = nn.Linear(cfg['emb_dim'], cfg['vocab_size'], bias=False)\n",
    "        \n",
    "    def forward(self, in_idx):\n",
    "        batch_size, seq_len = in_idx.shape\n",
    "        token_emb = self.tok_emb(in_idx)\n",
    "        positional_emb = self.pos_emb(torch.arange(seq_len, device=in_idx.device))\n",
    "        embeddings = token_emb + positional_emb\n",
    "        \n",
    "        embeddings = self.dropout(embeddings)\n",
    "        \n",
    "        x = self.transformer_layer(embeddings)\n",
    "        \n",
    "        x = self.final_norm_layer(x)\n",
    "        \n",
    "        logits = self.linear_out_layer(x)\n",
    "        \n",
    "        return logits"
   ]
  },
  {
   "cell_type": "markdown",
   "id": "7b7378ed",
   "metadata": {},
   "source": [
    "# Simple output tokenID generation function"
   ]
  },
  {
   "cell_type": "markdown",
   "id": "c20fd70b",
   "metadata": {},
   "source": [
    "**Text to tokens generation function**"
   ]
  },
  {
   "cell_type": "code",
   "execution_count": 12,
   "id": "b014acd5",
   "metadata": {},
   "outputs": [],
   "source": [
    "# Input : text and tokenizer\n",
    "# Output : tokens in a single batch (1, num_tokens)\n",
    "def text_to_tokens(text, tokenizer):\n",
    "    encoded = tokenizer.encode(text, allowed_special={'<|endoftext|>'})\n",
    "    tokens = torch.tensor(encoded).unsqueeze(0)  # .unsqueeze() converts (n, ) --> (1, n)\n",
    "    return tokens"
   ]
  },
  {
   "cell_type": "markdown",
   "id": "fab9f644",
   "metadata": {},
   "source": [
    "**Input tokens to output tokens generation function**"
   ]
  },
  {
   "cell_type": "code",
   "execution_count": 13,
   "id": "0f5756ca",
   "metadata": {},
   "outputs": [],
   "source": [
    "# input : idx is the input tokens in batch (num_batches, num_tokens)\n",
    "# output : return num_tokens output tokens concatenated with input tokens\n",
    "# Remember that this returns the output in shape (num_batches, num_tokens) \n",
    "# to convert these tokens into texts we need to arrange all tokens in a\n",
    "# single python list then pass it to the tokenizer.decode() to decode\n",
    "def generated_tokens_simple(model, idx, num_tokens, context_size):\n",
    "    for _ in range(num_tokens):\n",
    "        input = idx[:, -context_size:]\n",
    "        with torch.no_grad():\n",
    "            logits = model(input)\n",
    "        logits = logits[:, -1, :]\n",
    "        prob_dist = torch.softmax(logits, dim=-1)\n",
    "        idx_next = torch.argmax(prob_dist, dim=-1, keepdim=True)\n",
    "        idx = torch.cat([idx, idx_next], dim=-1)\n",
    "    return idx"
   ]
  },
  {
   "cell_type": "markdown",
   "id": "c0cdf012",
   "metadata": {},
   "source": [
    "**Tokens to text generation functon**"
   ]
  },
  {
   "cell_type": "code",
   "execution_count": 14,
   "id": "0980fa31",
   "metadata": {},
   "outputs": [],
   "source": [
    "# Input : tokens (1, num_tokens)\n",
    "# Output : text\n",
    "def tokens_to_text(tokens, tokenizer):\n",
    "    tokens = tokens.squeeze(0).tolist()  # .squeeze() converts (1, n) --> (n, )\n",
    "    text = tokenizer.decode(tokens)\n",
    "    return text"
   ]
  },
  {
   "cell_type": "markdown",
   "id": "b6b48abd",
   "metadata": {},
   "source": [
    "# Model Pre-training"
   ]
  },
  {
   "cell_type": "markdown",
   "id": "38f2c190",
   "metadata": {},
   "source": [
    "**Cross Entropy Loss calculation funtion**"
   ]
  },
  {
   "cell_type": "code",
   "execution_count": 15,
   "id": "cd01a152",
   "metadata": {},
   "outputs": [],
   "source": [
    "# Loss calculation for one batch\n",
    "def cal_loss_batch(input_batch, target_batch, model, device):\n",
    "    input_batch = input_batch.to(device)\n",
    "    target_batch = target_batch.to(device)\n",
    "    logits = model(input_batch)\n",
    "    logits = logits.flatten(0, 1)\n",
    "    targets = target_batch.flatten()\n",
    "    loss = nn.functional.cross_entropy(logits, targets)\n",
    "    return loss"
   ]
  },
  {
   "cell_type": "code",
   "execution_count": 16,
   "id": "5b79fe05",
   "metadata": {},
   "outputs": [],
   "source": [
    "# Loss calculation for whole dataloader\n",
    "def calc_loss_loader(data_loader, model, device, num_batches=None):\n",
    "    total_loss = 0\n",
    "    if len(data_loader)==0:\n",
    "        return float('nan')\n",
    "    elif num_batches is None:\n",
    "        num_batches = len(data_loader)\n",
    "    else:\n",
    "        num_batches = min(num_batches, len(data_loader))\n",
    "    for i, (input_batch, target_batch) in enumerate(data_loader):\n",
    "        if i<num_batches:\n",
    "            loss = cal_loss_batch(input_batch, target_batch, model, device)\n",
    "            total_loss += loss.item()\n",
    "        else:\n",
    "            break\n",
    "    return total_loss/num_batches"
   ]
  },
  {
   "cell_type": "markdown",
   "id": "e0da5a4e",
   "metadata": {},
   "source": [
    "**Model evaluation function to return Training and Validation losses**"
   ]
  },
  {
   "cell_type": "code",
   "execution_count": 17,
   "id": "e84d6886",
   "metadata": {},
   "outputs": [],
   "source": [
    "def evaluate_model(model, train_loader, val_loader, device, eval_iter):\n",
    "    model.eval()\n",
    "    with torch.no_grad():\n",
    "        train_loss = calc_loss_loader(train_loader, model, device, num_batches=eval_iter)\n",
    "        val_loss = calc_loss_loader(val_loader, model, device, num_batches=eval_iter)\n",
    "    model.train()\n",
    "    return train_loss, val_loss"
   ]
  },
  {
   "cell_type": "markdown",
   "id": "5c715152",
   "metadata": {},
   "source": [
    "**The below function is used for visual evaluation process <br> as it prints sample text outputs during model training**"
   ]
  },
  {
   "cell_type": "code",
   "execution_count": 18,
   "id": "6dcbc1bf",
   "metadata": {},
   "outputs": [],
   "source": [
    "def generate_and_print_sample(model, tokenizer, device, start_context):\n",
    "    model.eval()\n",
    "    context_size = model.pos_emb.weight.shape[0]\n",
    "    encoded = text_to_tokens(start_context, tokenizer).to(device)\n",
    "    with torch.no_grad():\n",
    "        out_tokens = generated_tokens_simple(model=model, idx=encoded,\n",
    "                                          num_tokens=50, context_size=context_size)\n",
    "    decoded_text = tokens_to_text(out_tokens, tokenizer)\n",
    "    print(decoded_text.replace(\"\\n\", \" \"))\n",
    "    model.train()\n",
    "        "
   ]
  },
  {
   "cell_type": "markdown",
   "id": "51ac40c0",
   "metadata": {},
   "source": [
    "**Model training function**"
   ]
  },
  {
   "cell_type": "code",
   "execution_count": 19,
   "id": "3ec8e087",
   "metadata": {},
   "outputs": [],
   "source": [
    "def train_model_simple(model, train_loader, val_loader, optimizer, device,\n",
    "                       num_epochs, eval_freq, eval_iter, start_context, tokenizer):\n",
    "    \n",
    "    train_losses, val_losses, track_tokens_seen = [], [], []\n",
    "    tokens_seen, global_step = 0, -1\n",
    "\n",
    "    for epoch in range(num_epochs):\n",
    "        model.train()\n",
    "        for input_batch, target_batch in train_loader:\n",
    "            optimizer.zero_grad()\n",
    "            loss = cal_loss_batch(input_batch, target_batch, model, device)\n",
    "            loss.backward()\n",
    "            optimizer.step()\n",
    "            tokens_seen += input_batch.numel()\n",
    "            global_step += 1\n",
    "            \n",
    "            if global_step%eval_freq==0:\n",
    "                train_loss, val_loss = evaluate_model(model, train_loader,\n",
    "                                                       val_loader, device, eval_iter)\n",
    "                train_losses.append(train_loss)\n",
    "                val_losses.append(val_loss)\n",
    "                track_tokens_seen.append(tokens_seen)\n",
    "                print(f\"Ep {epoch+1} (Step {global_step:06d}):\"\n",
    "                      f\"Training loss: {train_loss:.3f},\"\n",
    "                      f\"Validation loss: {val_loss:.3f}\")\n",
    "                \n",
    "        generate_and_print_sample(model, tokenizer, device, start_context)\n",
    "        \n",
    "    return train_losses, val_losses, track_tokens_seen"
   ]
  },
  {
   "cell_type": "markdown",
   "id": "38724d6e",
   "metadata": {},
   "source": [
    "**Starting to train the model**"
   ]
  },
  {
   "cell_type": "markdown",
   "id": "45967d05",
   "metadata": {},
   "source": [
    "**Changing the configuration slightly just by making the context_length=256 from 1024 original**"
   ]
  },
  {
   "cell_type": "code",
   "execution_count": 20,
   "id": "0417af7e",
   "metadata": {},
   "outputs": [],
   "source": [
    "GPT_CONFIG_124M = {\n",
    "    'vocab_size': 50257,\n",
    "    'context_length': 256,\n",
    "    'emb_dim': 768,\n",
    "    'n_heads': 12,\n",
    "    'n_layers': 12,\n",
    "    'drop_rate': 0.1,\n",
    "    'qkv_bias': False\n",
    "    }"
   ]
  },
  {
   "cell_type": "markdown",
   "id": "06a86ef2",
   "metadata": {},
   "source": [
    "**Importing \"The-Verdict\" a short story as dataset for training**"
   ]
  },
  {
   "cell_type": "code",
   "execution_count": 21,
   "id": "fa153b4a",
   "metadata": {},
   "outputs": [],
   "source": [
    "with open(\"the-verdict.txt\", \"r\", encoding=\"utf-8\") as f:\n",
    "    text_data = f.read()"
   ]
  },
  {
   "cell_type": "markdown",
   "id": "eacfe1cd",
   "metadata": {},
   "source": [
    "**Splitting dataset into training and validation data**"
   ]
  },
  {
   "cell_type": "code",
   "execution_count": 22,
   "id": "2cacd9aa",
   "metadata": {},
   "outputs": [],
   "source": [
    "splitting_frac = 0.9\n",
    "split_idx = int(splitting_frac*len(text_data))\n",
    "train_text = text_data[:split_idx]\n",
    "val_text = text_data[split_idx:]"
   ]
  },
  {
   "cell_type": "markdown",
   "id": "1500dfc4",
   "metadata": {},
   "source": [
    "**Creating training and validation dataloaders**"
   ]
  },
  {
   "cell_type": "code",
   "execution_count": 23,
   "id": "791ca811",
   "metadata": {},
   "outputs": [],
   "source": [
    "import tiktoken\n",
    "tokenizer = tiktoken.get_encoding('gpt2')"
   ]
  },
  {
   "cell_type": "code",
   "execution_count": 24,
   "id": "2ba39bca",
   "metadata": {},
   "outputs": [],
   "source": [
    "torch.manual_seed(123)\n",
    "train_loader = creat_dataloader_V1(train_text,\n",
    "                                    tokenizer,\n",
    "                                    batch_size=2,\n",
    "                                    max_length=GPT_CONFIG_124M['context_length'],\n",
    "                                    stride=GPT_CONFIG_124M['context_length'],\n",
    "                                    shuffle=True,\n",
    "                                    drop_last=True,\n",
    "                                    num_workers=0\n",
    "                                    )\n",
    "val_loader = creat_dataloader_V1(val_text,\n",
    "                                tokenizer,\n",
    "                                batch_size=2,\n",
    "                                max_length=GPT_CONFIG_124M['context_length'],\n",
    "                                stride=GPT_CONFIG_124M['context_length'],\n",
    "                                shuffle=False,\n",
    "                                drop_last=False,\n",
    "                                num_workers=0\n",
    "                                )"
   ]
  },
  {
   "cell_type": "code",
   "execution_count": 25,
   "id": "121d5756",
   "metadata": {},
   "outputs": [
    {
     "name": "stdout",
     "output_type": "stream",
     "text": [
      "Ep 1 (Step 000000):Training loss: 9.782,Validation loss: 9.934\n",
      "Ep 1 (Step 000005):Training loss: 8.112,Validation loss: 8.340\n",
      "Every step moves you,,,,,,,,,,,,.                                     \n",
      "Ep 2 (Step 000010):Training loss: 6.662,Validation loss: 7.049\n",
      "Ep 2 (Step 000015):Training loss: 5.961,Validation loss: 6.616\n",
      "Every step moves you, and, and, and, and, and, and, and, and, and, and, and, and, and, and, and, and, and, and, and, and, and, and,, and, and,\n",
      "Ep 3 (Step 000020):Training loss: 5.716,Validation loss: 6.594\n",
      "Ep 3 (Step 000025):Training loss: 5.210,Validation loss: 6.355\n",
      "Every step moves you, and I had been.                                            \n",
      "Ep 4 (Step 000030):Training loss: 4.427,Validation loss: 6.279\n",
      "Ep 4 (Step 000035):Training loss: 4.075,Validation loss: 6.227\n",
      "Every step moves you know the                          \"I he had the donkey and I had the and I had the donkey and down the room, I had\n",
      "Ep 5 (Step 000040):Training loss: 3.737,Validation loss: 6.160\n",
      "Every step moves you know it was not that the picture--I had the fact by the last I had been--his, and in the            \"Oh, and he said, and down the room, and in\n",
      "Ep 6 (Step 000045):Training loss: 2.859,Validation loss: 6.181\n",
      "Ep 6 (Step 000050):Training loss: 2.434,Validation loss: 6.139\n",
      "Every step moves you know,\" was one of the picture. The--I had a little of a and he was no I had the fact, and in the picture was, and I had been at my elbow and as his pictures, and down the room, I had\n",
      "Ep 7 (Step 000055):Training loss: 2.112,Validation loss: 6.133\n",
      "Ep 7 (Step 000060):Training loss: 1.889,Validation loss: 6.232\n",
      "Every step moves you know,\" was one of the picture for nothing--I told Mrs.  \"I was no--as! The women had been, in the moment--as Jack himself, as once one had been the donkey, and were, and in his\n",
      "Ep 8 (Step 000065):Training loss: 1.326,Validation loss: 6.238\n",
      "Ep 8 (Step 000070):Training loss: 0.991,Validation loss: 6.244\n",
      "Every step moves you know,\" was one of the axioms he had been the tips of a self-confident moustache, I felt to see a smile behind his close grayish beard--as if he had the donkey. \"strongest,\" as his\n",
      "Ep 9 (Step 000075):Training loss: 0.721,Validation loss: 6.293\n",
      "Ep 9 (Step 000080):Training loss: 0.544,Validation loss: 6.391\n",
      "Every step moves you know,\" was one of the axioms he laid down across the Sevres and silver of an exquisburn's an unusual degree to the display of this false virtuosity. The picture was one of Jack's \"strongest,\" as his\n",
      "Ep 10 (Step 000085):Training loss: 0.394,Validation loss: 6.452\n",
      "Every step moves you know,\" was one of the axioms he laid down across the Sevres and silver of an exquisitely appointed luncheon-table, when, on a later day, I had again run over from Monte Carlo; and Mrs. Gis\n"
     ]
    }
   ],
   "source": [
    "torch.manual_seed(123)\n",
    "model = GPTModel(GPT_CONFIG_124M)\n",
    "device = torch.device(\"cuda\" if torch.cuda.is_available() else \"cpu\")\n",
    "model.to(device)\n",
    "optimizer = torch.optim.AdamW(model.parameters(), lr=0.0004, weight_decay=0.1)\n",
    "num_epochs = 10\n",
    "start_context = \"Every step moves you\"\n",
    "train_losses, val_losses, track_tokens_seen = train_model_simple(model, train_loader,\n",
    "                                                                 val_loader,\n",
    "                                                                 optimizer, device,\n",
    "                                                                    num_epochs, eval_freq=5,\n",
    "                                                                    eval_iter=5,\n",
    "                                                                    start_context=start_context,\n",
    "                                                                    tokenizer=tokenizer)\n"
   ]
  },
  {
   "cell_type": "markdown",
   "id": "36fd731a",
   "metadata": {},
   "source": [
    "**Plotting Training and validation losses over number of epochs**"
   ]
  },
  {
   "cell_type": "code",
   "execution_count": 26,
   "id": "c654c2c1",
   "metadata": {},
   "outputs": [],
   "source": [
    "import matplotlib.pyplot as plt"
   ]
  },
  {
   "cell_type": "code",
   "execution_count": 27,
   "id": "1d02bb0b",
   "metadata": {},
   "outputs": [
    {
     "data": {
      "image/png": "[encoded data removed]",
      "text/plain": [
       "<Figure size 640x480 with 2 Axes>"
      ]
     },
     "metadata": {},
     "output_type": "display_data"
    }
   ],
   "source": [
    "epoch_tensor = torch.linspace(0, num_epochs, len(train_losses))\n",
    "fig, ax1 = plt.subplots()\n",
    "ax1.plot(epoch_tensor, train_losses, label=\"Training loss\")\n",
    "ax1.plot(epoch_tensor, val_losses, linestyle=\"-.\", label=\"Validation loss\")\n",
    "ax1.set_xlabel(\"epochs\")\n",
    "ax1.set_ylabel(\"loss\")\n",
    "ax1.legend()\n",
    "ax2 = ax1.twiny()\n",
    "ax2.plot(track_tokens_seen, train_losses, alpha=0)\n",
    "ax2.set_xlabel(\"Tokens seen\")\n",
    "plt.show()"
   ]
  },
  {
   "cell_type": "markdown",
   "id": "ee7f5db4",
   "metadata": {},
   "source": [
    "# Temperature scaling and Top-k sampling"
   ]
  },
  {
   "cell_type": "code",
   "execution_count": 28,
   "id": "77c19e11",
   "metadata": {},
   "outputs": [],
   "source": [
    "def generated_tokens_simple_V2(model, idx, max_new_tokens, context_size,\n",
    "                               temperature=0.0, top_k=None, eos_id=None):\n",
    "    for _ in range(max_new_tokens):\n",
    "        input = idx[:, -context_size:]\n",
    "        with torch.no_grad():\n",
    "            logits = model(input)\n",
    "        logits = logits[:, -1, :]\n",
    "        if top_k is not None:\n",
    "            top_logits, top_pos = torch.topk(logits, top_k)\n",
    "            min_val = top_logits[:, -1]\n",
    "            logits = torch.where(logits<min_val,\n",
    "                                 torch.tensor(float('-inf')).to(logits.device),\n",
    "                                 logits)\n",
    "        if temperature > 0.0:\n",
    "            logits = logits/temperature\n",
    "            prob_dist = torch.softmax(logits, dim=-1)\n",
    "            idx_next = torch.multinomial(prob_dist, num_samples=1)\n",
    "        else:\n",
    "            prob_dist = torch.softmax(logits, dim=-1)\n",
    "            idx_next = torch.argmax(prob_dist, dim=-1, keepdim=True)\n",
    "        if idx_next==eos_id:\n",
    "            break\n",
    "        idx = torch.cat([idx, idx_next], dim=-1)\n",
    "    return idx"
   ]
  },
  {
   "cell_type": "code",
   "execution_count": 29,
   "id": "b286f667",
   "metadata": {},
   "outputs": [],
   "source": [
    "def generate(model, input_context, max_new_tokens, context_size,\n",
    "                               temperature=0.0, top_k=None, eos_id=None):\n",
    "    model.eval()\n",
    "    input_tkns = text_to_tokens(input_context, tokenizer)\n",
    "    output_tkns = generated_tokens_simple_V2(model, input_tkns, max_new_tokens, context_size,\n",
    "                               temperature, top_k, eos_id)\n",
    "    output_txt = tokens_to_text(output_tkns, tokenizer)\n",
    "    print(output_txt)"
   ]
  },
  {
   "cell_type": "code",
   "execution_count": 30,
   "id": "d53535dc",
   "metadata": {},
   "outputs": [
    {
     "name": "stdout",
     "output_type": "stream",
     "text": [
      "Every step moves you know,\" was one of the axioms he laid down, so--so of the fact--so of the irony.\n",
      "\n",
      "\n",
      "\n",
      "\n",
      "\n",
      "\"Oh, and told me out--so a deprecating a deprecatingly--\n"
     ]
    }
   ],
   "source": [
    "input_txt = \"Every step moves you\"\n",
    "generate(model=model, input_context=input_txt, max_new_tokens=50, context_size=15, temperature=0.5, top_k=5)"
   ]
  },
  {
   "cell_type": "markdown",
   "id": "af647080",
   "metadata": {},
   "source": [
    "# Saving and loading model weights and Optimizer states"
   ]
  },
  {
   "cell_type": "code",
   "execution_count": 31,
   "id": "f0a48cad",
   "metadata": {},
   "outputs": [],
   "source": [
    "torch.save({\n",
    "    'model_state_dict' : model.state_dict(),\n",
    "    'optimizer_state_dict' : optimizer.state_dict()\n",
    "            },\n",
    "    'model_and_optimizer.pth'\n",
    "    )"
   ]
  },
  {
   "cell_type": "code",
   "execution_count": 32,
   "id": "ba5cd8dc",
   "metadata": {},
   "outputs": [],
   "source": [
    "checkpoint = torch.load(\"model_and_optimizer.pth\", map_location=device)\n",
    "model = GPTModel(GPT_CONFIG_124M)\n",
    "model.load_state_dict(checkpoint['model_state_dict'])\n",
    "optimizer = torch.optim.AdamW(model.parameters(), lr=5e-4, weight_decay=0.1)\n",
    "optimizer.load_state_dict(checkpoint['optimizer_state_dict'])\n",
    "model.train();"
   ]
  },
  {
   "cell_type": "markdown",
   "id": "a6f785a6",
   "metadata": {},
   "source": [
    "# Loading pretrained weights from OpenAI"
   ]
  },
  {
   "cell_type": "code",
   "execution_count": 33,
   "id": "b4f21b0f",
   "metadata": {},
   "outputs": [
    {
     "name": "stdout",
     "output_type": "stream",
     "text": [
      "File already exists and is up-to-date: gpt2/124M/checkpoint\n",
      "File already exists and is up-to-date: gpt2/124M/encoder.json\n",
      "File already exists and is up-to-date: gpt2/124M/hparams.json\n",
      "File already exists and is up-to-date: gpt2/124M/model.ckpt.data-00000-of-00001\n",
      "File already exists and is up-to-date: gpt2/124M/model.ckpt.index\n",
      "File already exists and is up-to-date: gpt2/124M/model.ckpt.meta\n",
      "File already exists and is up-to-date: gpt2/124M/vocab.bpe\n"
     ]
    }
   ],
   "source": [
    "# gpt_download.py is a python file which contains functions to download open source weights from OpenAI\n",
    "\n",
    "from gpt_download import download_and_load_gpt2\n",
    "settings, params = download_and_load_gpt2(model_size=\"124M\", models_dir=\"gpt2\")"
   ]
  },
  {
   "cell_type": "markdown",
   "id": "e2edf505",
   "metadata": {},
   "source": [
    "**As same architecture can be used for all GPT2 models we define the config. for all models**"
   ]
  },
  {
   "cell_type": "code",
   "execution_count": 34,
   "id": "a1f353ec",
   "metadata": {},
   "outputs": [],
   "source": [
    "model_configs = {\n",
    "\"gpt2-small (124M)\": {\"emb_dim\": 768, \"n_layers\": 12, \"n_heads\": 12},\n",
    "\"gpt2-medium (355M)\": {\"emb_dim\": 1024, \"n_layers\": 24, \"n_heads\": 16},\n",
    "\"gpt2-large (774M)\": {\"emb_dim\": 1280, \"n_layers\": 36, \"n_heads\": 20},\n",
    "\"gpt2-xl (1558M)\": {\"emb_dim\": 1600, \"n_layers\": 48, \"n_heads\": 25}\n",
    "}"
   ]
  },
  {
   "cell_type": "code",
   "execution_count": 35,
   "id": "e6a2190b",
   "metadata": {},
   "outputs": [
    {
     "data": {
      "text/plain": [
       "{'vocab_size': 50257,\n",
       " 'context_length': 256,\n",
       " 'emb_dim': 768,\n",
       " 'n_heads': 12,\n",
       " 'n_layers': 12,\n",
       " 'drop_rate': 0.1,\n",
       " 'qkv_bias': False}"
      ]
     },
     "execution_count": 35,
     "metadata": {},
     "output_type": "execute_result"
    }
   ],
   "source": [
    "model_name = \"gpt2-small (124M)\"\n",
    "NEW_CONFIG = GPT_CONFIG_124M.copy()\n",
    "NEW_CONFIG.update(model_configs[model_name])\n",
    "NEW_CONFIG"
   ]
  },
  {
   "cell_type": "markdown",
   "id": "6df1ab59",
   "metadata": {},
   "source": [
    "**Earlier we set the context_length to 256 from 1024 for the sake of training the model<br>Also OpenAI used bias vectors in the Multihead attention so we are turning qkv_bias to true**"
   ]
  },
  {
   "cell_type": "code",
   "execution_count": 36,
   "id": "9b8a4518",
   "metadata": {},
   "outputs": [
    {
     "data": {
      "text/plain": [
       "{'vocab_size': 50257,\n",
       " 'context_length': 1024,\n",
       " 'emb_dim': 768,\n",
       " 'n_heads': 12,\n",
       " 'n_layers': 12,\n",
       " 'drop_rate': 0.1,\n",
       " 'qkv_bias': True}"
      ]
     },
     "execution_count": 36,
     "metadata": {},
     "output_type": "execute_result"
    }
   ],
   "source": [
    "NEW_CONFIG.update({'context_length': 1024, 'qkv_bias': True})\n",
    "NEW_CONFIG"
   ]
  },
  {
   "cell_type": "code",
   "execution_count": 37,
   "id": "ae5ad511",
   "metadata": {},
   "outputs": [],
   "source": [
    "gpt = GPTModel(NEW_CONFIG)\n",
    "gpt.eval();"
   ]
  },
  {
   "cell_type": "markdown",
   "id": "fb9628a6",
   "metadata": {},
   "source": [
    "**We will first define a small \"assign\" utility function that checks whether two tensors or arrays (left and right) have the same dimensions or shape and returns the right tensor as trainable PyTorch parameters:**"
   ]
  },
  {
   "cell_type": "code",
   "execution_count": 38,
   "id": "2dda547d",
   "metadata": {},
   "outputs": [],
   "source": [
    "def assign(left, right):\n",
    "    if left.shape!=right.shape:\n",
    "        raise ValueError(f\"Shape mismatch. Left: {left.shape}, \"\n",
    "                         f\"Right: {right.shape}\"\n",
    "                         )\n",
    "    return torch.nn.Parameter(torch.tensor(right, device=left.device))"
   ]
  },
  {
   "cell_type": "markdown",
   "id": "4fc56dcf",
   "metadata": {},
   "source": [
    "### Replacing our weights and biases with OpenAI's weights and biases"
   ]
  },
  {
   "cell_type": "code",
   "execution_count": 39,
   "id": "3c998177",
   "metadata": {},
   "outputs": [],
   "source": [
    "import numpy as np\n",
    "\n",
    "def load_params_into_gpt(gpt, params):\n",
    "    gpt.pos_emb.weight = assign(gpt.pos_emb.weight, params['wpe'])\n",
    "    gpt.tok_emb.weight = assign(gpt.tok_emb.weight, params['wte'])\n",
    "    \n",
    "    for b in range(len(params[\"blocks\"])):\n",
    "        q_w, k_w, v_w = np.split(\n",
    "            (params[\"blocks\"][b][\"attn\"][\"c_attn\"][\"w\"]), 3, axis=-1)\n",
    "        gpt.transformer_layer[b].Masked_multi_head_attn.Q_layer.weight = assign(\n",
    "            gpt.transformer_layer[b].Masked_multi_head_attn.Q_layer.weight, q_w.T)\n",
    "        gpt.transformer_layer[b].Masked_multi_head_attn.K_layer.weight = assign(\n",
    "            gpt.transformer_layer[b].Masked_multi_head_attn.K_layer.weight, k_w.T)\n",
    "        gpt.transformer_layer[b].Masked_multi_head_attn.V_layer.weight = assign(\n",
    "            gpt.transformer_layer[b].Masked_multi_head_attn.V_layer.weight, v_w.T)\n",
    "        \n",
    "        q_b, k_b, v_b = np.split(\n",
    "            (params[\"blocks\"][b][\"attn\"][\"c_attn\"][\"b\"]), 3, axis=-1)\n",
    "        gpt.transformer_layer[b].Masked_multi_head_attn.Q_layer.bias = assign(\n",
    "            gpt.transformer_layer[b].Masked_multi_head_attn.Q_layer.bias, q_b)\n",
    "        gpt.transformer_layer[b].Masked_multi_head_attn.K_layer.bias = assign(\n",
    "            gpt.transformer_layer[b].Masked_multi_head_attn.K_layer.bias, k_b)\n",
    "        gpt.transformer_layer[b].Masked_multi_head_attn.V_layer.bias = assign(\n",
    "            gpt.transformer_layer[b].Masked_multi_head_attn.V_layer.bias, v_b)\n",
    "        \n",
    "        gpt.transformer_layer[b].Masked_multi_head_attn.out_proj.weight = assign(\n",
    "            gpt.transformer_layer[b].Masked_multi_head_attn.out_proj.weight,\n",
    "            params[\"blocks\"][b][\"attn\"][\"c_proj\"][\"w\"].T)\n",
    "        gpt.transformer_layer[b].Masked_multi_head_attn.out_proj.bias = assign(\n",
    "            gpt.transformer_layer[b].Masked_multi_head_attn.out_proj.bias,\n",
    "            params[\"blocks\"][b][\"attn\"][\"c_proj\"][\"b\"])\n",
    "        \n",
    "        gpt.transformer_layer[b].ff.layers[0].weight = assign(\n",
    "            gpt.transformer_layer[b].ff.layers[0].weight,\n",
    "            params[\"blocks\"][b][\"mlp\"][\"c_fc\"][\"w\"].T)\n",
    "        gpt.transformer_layer[b].ff.layers[0].bias = assign(\n",
    "            gpt.transformer_layer[b].ff.layers[0].bias,\n",
    "            params[\"blocks\"][b][\"mlp\"][\"c_fc\"][\"b\"])\n",
    "        gpt.transformer_layer[b].ff.layers[2].weight = assign(\n",
    "            gpt.transformer_layer[b].ff.layers[2].weight,\n",
    "            params[\"blocks\"][b][\"mlp\"][\"c_proj\"][\"w\"].T)\n",
    "        gpt.transformer_layer[b].ff.layers[2].bias = assign(\n",
    "            gpt.transformer_layer[b].ff.layers[2].bias,\n",
    "            params[\"blocks\"][b][\"mlp\"][\"c_proj\"][\"b\"])\n",
    "        \n",
    "        gpt.transformer_layer[b].layer_norm1.scale = assign(\n",
    "            gpt.transformer_layer[b].layer_norm1.scale,\n",
    "            params[\"blocks\"][b][\"ln_1\"][\"g\"])\n",
    "        gpt.transformer_layer[b].layer_norm1.shift = assign(\n",
    "            gpt.transformer_layer[b].layer_norm1.shift,\n",
    "            params[\"blocks\"][b][\"ln_1\"][\"b\"])\n",
    "        gpt.transformer_layer[b].layer_norm2.scale = assign(\n",
    "            gpt.transformer_layer[b].layer_norm2.scale,\n",
    "            params[\"blocks\"][b][\"ln_2\"][\"g\"])\n",
    "        gpt.transformer_layer[b].layer_norm2.shift = assign(\n",
    "            gpt.transformer_layer[b].layer_norm2.shift,\n",
    "            params[\"blocks\"][b][\"ln_2\"][\"b\"])\n",
    "        \n",
    "    gpt.final_norm_layer.scale = assign(gpt.final_norm_layer.scale, params[\"g\"])\n",
    "    gpt.final_norm_layer.shift = assign(gpt.final_norm_layer.shift, params[\"b\"])\n",
    "    gpt.linear_out_layer.weight = assign(gpt.linear_out_layer.weight, params[\"wte\"])\n",
    "      "
   ]
  },
  {
   "cell_type": "code",
   "execution_count": 40,
   "id": "7a8115de",
   "metadata": {},
   "outputs": [],
   "source": [
    "load_params_into_gpt(gpt, params)\n",
    "gpt.to(device);"
   ]
  },
  {
   "cell_type": "markdown",
   "id": "ce1c480c",
   "metadata": {},
   "source": [
    "### Giving some input to the model and if model produces some coherent text then everything is good"
   ]
  },
  {
   "cell_type": "code",
   "execution_count": 41,
   "id": "82b36171",
   "metadata": {},
   "outputs": [
    {
     "name": "stdout",
     "output_type": "stream",
     "text": [
      "Education is the key to building the future of the next generation—our kids and this world,\" Doreen Doss told the Washington Examiner recently!\n",
      "None\n"
     ]
    }
   ],
   "source": [
    "torch.manual_seed(353)\n",
    "input_context = \"Education is the key to\"\n",
    "output = generate(model=gpt, input_context=input_context,\n",
    "                  max_new_tokens=25, context_size=1024,\n",
    "                  temperature=1.5, top_k=50)\n",
    "print(output)"
   ]
  }
 ],
 "metadata": {
  "kernelspec": {
   "display_name": "Python (llmFS)",
   "language": "python",
   "name": "llmfsenv"
  },
  "language_info": {
   "codemirror_mode": {
    "name": "ipython",
    "version": 3
   },
   "file_extension": ".py",
   "mimetype": "text/x-python",
   "name": "python",
   "nbconvert_exporter": "python",
   "pygments_lexer": "ipython3",
   "version": "3.12.1"
  }
 },
 "nbformat": 4,
 "nbformat_minor": 5
}
